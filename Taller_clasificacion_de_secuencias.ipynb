{
  "nbformat": 4,
  "nbformat_minor": 0,
  "metadata": {
    "colab": {
      "provenance": []
    },
    "kernelspec": {
      "name": "python3",
      "display_name": "Python 3"
    },
    "language_info": {
      "name": "python"
    }
  },
  "cells": [
    {
      "cell_type": "markdown",
      "source": [
        "# Clasificación de secuencias genómicas\n",
        "\n",
        "## Temas:\n",
        "1. Introducción\n",
        "  - Objetivos\n",
        "  - Antecedentes y usos\n",
        "  - Datos genómicos\n",
        "\n",
        "2. Preprocesamiento básico de secuencias genómicas\n",
        "  - Resumen de secuencias genómicas y su representación\n",
        "  - Transformación y extracción de características (tokenización)\n",
        "  - Actividad: Preparación de un conjunto de datos\n",
        "\n",
        "3. Modelos de aprendizaje automático para clasificación de secuencias\n",
        "  - Métodos clásicos de aprendizaje automático (machine learning)\n",
        "  - Aprendizaje profundo (deep learning)\n",
        "  - Actividad: Construcción y entrenamiento de modelos\n",
        "\n",
        "4. Técnicas avanzadas para la clasificación de secuencias\n",
        "  - Introducción a modelos de aprendizaje profundo con PyTorch\n",
        "  - *Transfer learning* con HuggingFace\n",
        "  ---"
      ],
      "metadata": {
        "id": "XpW_eYrAl068"
      }
    },
    {
      "cell_type": "markdown",
      "source": [
        "# Introducción\n",
        "\n",
        "## Objetivos:\n",
        "1. Entender la importancia del proceso de clasificación de secuencias\n",
        "2. Entender el proceso de preparación de conjuntos de datos para la clasificación de secuencias genómicas\n",
        "3. Comprender las distintas estrategias disponibles para la clasificación de secuencias\n",
        "4. Implmentar un algoritmo de clasificación de secuencias codificantes vs. no codificantes exitosamente\n",
        "\n",
        "## Antecedentes\n",
        "El término **genoma** se refiere a todo el material genético heredable de un ser vivo. La principal diferencia entre la genética y la genómica es el objetivo de estudio. El primero estudia **genes** individuales, así como sus productos y consecuencias de su variación. Mientras que la genómica se centra en todos los elementos que se encuentran en el genóma y cómo estos interaccionan [1]. La rama de la **genómica funcional** estudia cómo los genes y las regiones intergénicas, afectados por el ambiente resultan en fenotipos específicos, es decir, las características visibles de un organismo (color de piel, de ojos, enfermedades manifestadas, etc.) [2].\n"
      ],
      "metadata": {
        "id": "0Cc5NxX8NSBA"
      }
    },
    {
      "cell_type": "code",
      "execution_count": null,
      "metadata": {
        "id": "Bhc6qPOblv0q"
      },
      "outputs": [],
      "source": []
    },
    {
      "cell_type": "markdown",
      "source": [
        "# Referencias\n",
        "\n",
        "[1] Clark, D. P., Pazdernik, N. J., & McGehee, M. R. (2019). Molecular biology. Elsevier.\n",
        "\n",
        "[2] EMBL-EBI (2024) Functional genmics 1. Disponible en: https://www.ebi.ac.uk/training/online/courses/functional-genomics-i-introduction-and-design/"
      ],
      "metadata": {
        "id": "iXsUc1mbP_Kr"
      }
    }
  ]
}