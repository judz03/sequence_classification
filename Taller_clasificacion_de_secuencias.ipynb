{
  "cells": [
    {
      "cell_type": "markdown",
      "metadata": {
        "id": "XpW_eYrAl068"
      },
      "source": [
        "# Clasificación de secuencias genómicas\n",
        "\n",
        "## Temas:\n",
        "1. Introducción\n",
        "  - Objetivos\n",
        "  - Antecedentes y usos\n",
        "  - Datos genómicos\n",
        "\n",
        "2. Preprocesamiento básico de secuencias genómicas\n",
        "  - Resumen de secuencias genómicas y su representación\n",
        "  - Transformación y extracción de características (tokenización)\n",
        "  - Actividad: Preparación de un conjunto de datos\n",
        "\n",
        "3. Modelos de aprendizaje automático para clasificación de secuencias\n",
        "  - Métodos clásicos de aprendizaje automático (machine learning)\n",
        "  - Aprendizaje profundo (deep learning)\n",
        "  - Actividad: Construcción y entrenamiento de modelos\n",
        "\n",
        "4. Técnicas avanzadas para la clasificación de secuencias\n",
        "  - Introducción a modelos de aprendizaje profundo con PyTorch\n",
        "  - *Transfer learning* con HuggingFace\n",
        "  ---"
      ]
    },
    {
      "cell_type": "markdown",
      "metadata": {
        "id": "0Cc5NxX8NSBA"
      },
      "source": [
        "# Introducción\n",
        "\n",
        "## Objetivos:\n",
        "1. Entender la importancia del proceso de clasificación de secuencias\n",
        "2. Entender el proceso de preparación de conjuntos de datos para la clasificación de secuencias genómicas\n",
        "3. Comprender las distintas estrategias disponibles para la clasificación de secuencias\n",
        "4. Implementar un algoritmo de clasificación de secuencias codificantes vs. no codificantes exitosamente\n",
        "\n",
        "## Antecedentes\n",
        "El término **genoma** se refiere a todo el material genético heredable de un ser vivo. La principal diferencia entre la genética y la genómica es el objetivo de estudio. El primero estudia **genes** individuales, así como sus productos y consecuencias de su variación. Mientras que la genómica se centra en todos los elementos que se encuentran en el genóma y cómo estos interaccionan [1]. La rama de la **genómica funcional** estudia cómo los genes y las regiones intergénicas, afectados por el ambiente resultan en fenotipos específicos, es decir, las características visibles de un organismo (color de piel, de ojos, enfermedades manifestadas, etc.) [2].\n",
        "\n",
        "<figure>\n",
        "<img    src=\"images/dna_double_helix.jpg\"\n",
        "        width=500\n",
        "        height=500>\n",
        "<figcaption>Fig. 1: Imagen generada de la doble hélice de la estructura del ADN.\n",
        "</figure>\n",
        "\n",
        "Tradicionalmente la clasificación de secuencias era un proceso predominantemente estadístico, sin embargo, en los últimos años el uso de herramientas de aprendizaje automático, específicamente de aprendizaje profundo, han servido para identificar y clasificar numerosos elementos genómicos. Por ejemplo, elementos como promotores, potenciadores, factores de transcripción, entre otros, han sido de mucha utilidad para comprobar la efectividad de estas novedosas estrategias [3].\n",
        "\n",
        "<figure>\n",
        "<img    src=\"images/IA_ML_DL.png\"\n",
        "        width=500\n",
        "        height=500>\n",
        "<figcaption>Fig. 2: Diagrama de Venn del paradigma de inteligencia artificial.\n",
        "</figure>\n",
        "\n",
        "En este taller veremos cuál es el proceso para la clasificación de secuencias genómicas desde el minado y preporcesamiento de los datos, hasta el uso de herramientas más avanzadas. De manera general, este procedimiento se resume en los siguientes pasos:\n",
        "\n",
        "1. Entender el problema\n",
        "2. Adquisición y/o búsqueda de datos\n",
        "3. Pre-procesamiento de datos\n",
        "4. Extracción de características\n",
        "5. Elección de modelo o arquitectura\n",
        "6. Entrenamiento del modelo\n",
        "7. Evaluación del modelo\n",
        "8. Despliegue del modelo (en aplicaciones prácticas e industriales)\n",
        "\n",
        "<figure>\n",
        "<img    src=\"images/ml_workflow.png\"\n",
        "        width=1200\n",
        "        height=200>\n",
        "<figcaption>Fig. 3: Flujo de trabajo convencional en el uso de herramientas de ML en aplicaciones biomédicas [4].\n",
        "</figure>\n",
        "\n",
        "---"
      ]
    },
    {
      "cell_type": "markdown",
      "metadata": {},
      "source": [
        "# Preprocesamiento básico de secuencias genómicas"
      ]
    },
    {
      "cell_type": "code",
      "execution_count": 24,
      "metadata": {
        "id": "Bhc6qPOblv0q"
      },
      "outputs": [],
      "source": [
        "# Importaremos algunas librerías que nos serán de mucha utilidad\n",
        "import torch\n",
        "import torch.nn as nn\n",
        "import numpy as np\n",
        "from Bio import SeqIO\n",
        "import pandas as pd\n",
        "import gzip\n",
        "from transformers import AutoModelForSequenceClassification, AutoTokenizer\n",
        "from sklearn import datasets, decomposition\n",
        "import matplotlib.pyplot as plt\n",
        "import seaborn as sns"
      ]
    },
    {
      "cell_type": "markdown",
      "metadata": {},
      "source": [
        "## Secuencias codificantes vs. no codificantes\n",
        "El conjunto de datos con el que trabajaremos está disponible en la base de datos pública de Ensembl, disponible [aquí](https://ftp.ensembl.org/pub/release-111/fasta/homo_sapiens/) en su formato crudo.\n",
        "\n",
        "El que utilizaremos para este taller está disponible en [esta](https://drive.google.com/drive/folders/1hYwhOeg5xHI7nBzQHFWOGZyXCMbC3Mib?usp=sharing) carpeta de drive. El procedimiento de cómo acceder al conjunto de datos se muestra a continuación.\n",
        "\n",
        "Al hacer click en el enlace, se abrirá el navegador de internet en una dirección de una carpeta almacenada en Google Drive. A continuación, dar click en la parte superior con el texto ***sequence_classification_dataset***. Seleccionar el apartado ***Organizar***, y finalmente ***Añadir acceso directo***.\n",
        "\n",
        "<figure>\n",
        "<img    src=\"images/drive_1.png\"\n",
        "        width=1000\n",
        "        height=600>\n",
        "<figcaption>Fig. 4: Ilustración de pasos a seguir para añadir acceso directo del conjunto de datos a la unidad de Google Drive (1).\n",
        "</figure>\n",
        "\n",
        "\n",
        "Después se abrirá una pequeña ventana para indicar la dirección donde el acceso directo al conjunto de datos será puesto dentro de la unidad. Seleccionar ***Mi unidad*** y ***Añadir***.\n",
        "\n",
        "<figure>\n",
        "<img    src=\"images/drive_2.png\"\n",
        "        width=600\n",
        "        height=500>\n",
        "<figcaption>Fig. 5: Ilustración de pasos a seguir para añadir acceso directo del conjunto de datos a la unidad de Google Drive (2).\n",
        "</figure>"
      ]
    },
    {
      "cell_type": "markdown",
      "metadata": {},
      "source": [
        "Ahora montaremos nuestra unidad de Google Drive para poder trabajar con los conjuntos de datos. Se abrirán algunas pestañas y ventanas emergentes de **Colab** para pedir acceso a nuestro almacenamiento en la nube. Aceptamos todos los permisos correspondientes."
      ]
    },
    {
      "cell_type": "code",
      "execution_count": null,
      "metadata": {},
      "outputs": [],
      "source": [
        "# Importar datos de unidad de google drive\n",
        "from google.colab import drive\n",
        "drive.mount('/content/drive')"
      ]
    },
    {
      "cell_type": "code",
      "execution_count": null,
      "metadata": {},
      "outputs": [],
      "source": [
        "# Direcciones de los conjuntos de datos\n",
        "gen_path = \"/content/drive/MyDrive/sequence_classification_dataset/\"\n",
        "ncrna_path = gen_path + \"ncrna/Homo_sapiens.GRCh38.ncrna.fa.gz\"\n",
        "cdna_path = gen_path + \"cdna/Homo_sapiens.GRCh38.cdna.all.fa.gz\""
      ]
    },
    {
      "cell_type": "code",
      "execution_count": 3,
      "metadata": {},
      "outputs": [
        {
          "name": "stdout",
          "output_type": "stream",
          "text": [
            "[SeqRecord(seq=Seq('GTACTTATTTCAACAGCACATATTTTAAATTGGATCAATACAGAGCAGATAAGC...TTG'), id='ENST00000616830.1', name='ENST00000616830.1', description='ENST00000616830.1 ncrna scaffold:GRCh38:KI270744.1:51009:51114:-1 gene:ENSG00000278625.1 gene_biotype:snRNA transcript_biotype:snRNA gene_symbol:U6 description:U6 spliceosomal RNA [Source:RFAM;Acc:RF00026]', dbxrefs=[]), SeqRecord(seq=Seq('ATACTTACCTGGCAGGGCAGATACCATGATCTTAAAGGCAGTTTTCCCAGGGCA...GTA'), id='ENST00000612925.1', name='ENST00000612925.1', description='ENST00000612925.1 ncrna scaffold:GRCh38:KI270750.1:148668:148843:1 gene:ENSG00000277374.1 gene_biotype:snRNA transcript_biotype:snRNA gene_symbol:U1 description:U1 spliceosomal RNA [Source:RFAM;Acc:RF00003]', dbxrefs=[]), SeqRecord(seq=Seq('GTGCCTGCTTTGGCGGCACATATCCTAAAATTGGAACAATACAGAGAAAGTTAG...TTG'), id='ENST00000616468.1', name='ENST00000616468.1', description='ENST00000616468.1 ncrna scaffold:GRCh38:GL000213.1:127840:127946:-1 gene:ENSG00000278793.1 gene_biotype:snRNA transcript_biotype:snRNA gene_symbol:U6 description:U6 spliceosomal RNA [Source:RFAM;Acc:RF00026]', dbxrefs=[]), SeqRecord(seq=Seq('CACTTTACCTGGCAGGGGAGAGACCGTGGTCACGAAGGGGGTTCTCCCAGAGTG...TTT'), id='ENST00000618083.1', name='ENST00000618083.1', description='ENST00000618083.1 ncrna scaffold:GRCh38:KI270713.1:30437:30580:-1 gene:ENSG00000275987.1 gene_biotype:snRNA transcript_biotype:snRNA gene_symbol:U1 description:U1 spliceosomal RNA [Source:RFAM;Acc:RF00003]', dbxrefs=[]), SeqRecord(seq=Seq('ATACTTACCTGGCAGGGGAGATACCATGATCACGAAGGTGGTTTTCCCAGGGCG...CTG'), id='ENST00000619109.1', name='ENST00000619109.1', description='ENST00000619109.1 ncrna scaffold:GRCh38:KI270713.1:21861:22024:-1 gene:ENSG00000275405.1 gene_biotype:snRNA transcript_biotype:snRNA gene_symbol:U1 description:U1 spliceosomal RNA [Source:RFAM;Acc:RF00003]', dbxrefs=[])]\n"
          ]
        }
      ],
      "source": [
        "# Leemos el archivo que contiene las secuencias con las que trabajeremos\n",
        "with gzip.open(ncrna_path, 'rt') as file_handler:\n",
        "    ncrna_seq = [record for record in SeqIO.parse(file_handler, \"fasta\")]\n",
        "\n",
        "print(ncrna_seq[:5])"
      ]
    },
    {
      "cell_type": "code",
      "execution_count": 4,
      "metadata": {},
      "outputs": [
        {
          "name": "stdout",
          "output_type": "stream",
          "text": [
            "['GTACTTATTTCAACAGCACATATTTTAAATTGGATCAATACAGAGCAGATAAGCATGGTTACTGCCTAGGGATGGCACACAAATTCAGAAAGCATTCCATATTTTG', 'ATACTTACCTGGCAGGGCAGATACCATGATCTTAAAGGCAGTTTTCCCAGGGCAAGGCTTATCCATTCCACTCTGGATCCATCATAGGGATATGCTGATCCCTGGAATTGCCCCAAATGTGGGAAGCTCTACTGCAAAATTTTTGGTAGTGAGCGATGGCATTATGCATTCATGTA', 'GTGCCTGCTTTGGCGGCACATATCCTAAAATTGGAACAATACAGAGAAAGTTAGCATGGCTTCTGCATAAGGAGGCAGCACAACTCTTTGAGGCATTCCATATTTTG', 'CACTTTACCTGGCAGGGGAGAGACCGTGGTCACGAAGGGGGTTCTCCCAGAGTGAAGCTTCTTCATCGCACTCTAGAGTTGCTGATTCCTGTGATTTCCTCCATGTGGGAAACGGTGTTTGTGCTAGAAGAGGCTGCGCTCTTT', 'ATACTTACCTGGCAGGGGAGATACCATGATCACGAAGGTGGTTTTCCCAGGGCGAGGCTTATCCATTGCACTCCGGATGTGCTGACCCCTGCGATTTCCCCAAATGTGGGAAACTCGACTGCATAATTTGTGGTAGTGGGGGACTGCGTTCGCGCTTTCCCCTG']\n"
          ]
        }
      ],
      "source": [
        "# En este caso, la única información que nos interesa es sólo la secuencia, por lo tanto debemos especificarlo\n",
        "with gzip.open(ncrna_path, 'rt') as file_handler:\n",
        "    ncrna_seq = [str(record.seq)for record in SeqIO.parse(file_handler, \"fasta\")]\n",
        "\n",
        "print(ncrna_seq[:5])"
      ]
    },
    {
      "cell_type": "markdown",
      "metadata": {},
      "source": [
        "**Hasta aquí, solo hemos extraído las secuencias *no codificantes*. Repetiremos el mismo proceso con las secuencias *codificantes*.**"
      ]
    },
    {
      "cell_type": "code",
      "execution_count": 5,
      "metadata": {},
      "outputs": [
        {
          "name": "stdout",
          "output_type": "stream",
          "text": [
            "['GAAATAGT', 'ACTGGGGGATACG', 'CCTTCCTAC', 'GGGACAGGGGGC', 'GGGACAGGGGGC']\n"
          ]
        }
      ],
      "source": [
        "# Extraemos únicamente las secuencias del conjunto de datos de secuencias codificantes\n",
        "with gzip.open(cdna_path, 'rt') as file_handler:\n",
        "    cdna_seq = [str(record.seq) for record in SeqIO.parse(file_handler, \"fasta\")]\n",
        "\n",
        "print(cdna_seq[:5])"
      ]
    },
    {
      "cell_type": "markdown",
      "metadata": {},
      "source": [
        "**Muy bien, ya se extrajeron nuestras secuencias, pero no servirán de mucho almacenandolas solamente en listas de Python, además se les debe asignar algun tipo de valor o *etiqueta* para poder identificarlas más fácilmente. Por lo tanto ahora se reorganizarán en una estructura de datos conocida como *DataFrame*, apoyándonos de otra estrucura conocida como *diccionario*.**"
      ]
    },
    {
      "cell_type": "code",
      "execution_count": 6,
      "metadata": {},
      "outputs": [
        {
          "data": {
            "text/html": [
              "<div>\n",
              "<style scoped>\n",
              "    .dataframe tbody tr th:only-of-type {\n",
              "        vertical-align: middle;\n",
              "    }\n",
              "\n",
              "    .dataframe tbody tr th {\n",
              "        vertical-align: top;\n",
              "    }\n",
              "\n",
              "    .dataframe thead th {\n",
              "        text-align: right;\n",
              "    }\n",
              "</style>\n",
              "<table border=\"1\" class=\"dataframe\">\n",
              "  <thead>\n",
              "    <tr style=\"text-align: right;\">\n",
              "      <th></th>\n",
              "      <th>sequences</th>\n",
              "      <th>value</th>\n",
              "    </tr>\n",
              "  </thead>\n",
              "  <tbody>\n",
              "    <tr>\n",
              "      <th>0</th>\n",
              "      <td>GTACTTATTTCAACAGCACATATTTTAAATTGGATCAATACAGAGC...</td>\n",
              "      <td>0</td>\n",
              "    </tr>\n",
              "    <tr>\n",
              "      <th>1</th>\n",
              "      <td>ATACTTACCTGGCAGGGCAGATACCATGATCTTAAAGGCAGTTTTC...</td>\n",
              "      <td>0</td>\n",
              "    </tr>\n",
              "    <tr>\n",
              "      <th>2</th>\n",
              "      <td>GTGCCTGCTTTGGCGGCACATATCCTAAAATTGGAACAATACAGAG...</td>\n",
              "      <td>0</td>\n",
              "    </tr>\n",
              "    <tr>\n",
              "      <th>3</th>\n",
              "      <td>CACTTTACCTGGCAGGGGAGAGACCGTGGTCACGAAGGGGGTTCTC...</td>\n",
              "      <td>0</td>\n",
              "    </tr>\n",
              "    <tr>\n",
              "      <th>4</th>\n",
              "      <td>ATACTTACCTGGCAGGGGAGATACCATGATCACGAAGGTGGTTTTC...</td>\n",
              "      <td>0</td>\n",
              "    </tr>\n",
              "  </tbody>\n",
              "</table>\n",
              "</div>"
            ],
            "text/plain": [
              "                                           sequences  value\n",
              "0  GTACTTATTTCAACAGCACATATTTTAAATTGGATCAATACAGAGC...      0\n",
              "1  ATACTTACCTGGCAGGGCAGATACCATGATCTTAAAGGCAGTTTTC...      0\n",
              "2  GTGCCTGCTTTGGCGGCACATATCCTAAAATTGGAACAATACAGAG...      0\n",
              "3  CACTTTACCTGGCAGGGGAGAGACCGTGGTCACGAAGGGGGTTCTC...      0\n",
              "4  ATACTTACCTGGCAGGGGAGATACCATGATCACGAAGGTGGTTTTC...      0"
            ]
          },
          "execution_count": 6,
          "metadata": {},
          "output_type": "execute_result"
        }
      ],
      "source": [
        "# Con ayuda del diccionario y la librería numpy, asignamos a las secuencias no codificantes un valor numérico de 0\n",
        "max_len = 1000\n",
        "nc_sequences_dict = {'sequences': ncrna_seq[:max_len],\n",
        "                     'value': np.zeros(max_len,dtype=np.int8)}\n",
        "\n",
        "# Asímismo, asignamos un valor número con valor de 1 a las secuencias codificantes\n",
        "c_sequences_dict = {'sequences': cdna_seq[:max_len],\n",
        "                    'value': np.ones(max_len,dtype=np.int8)}\n",
        "\n",
        "# Creamos el dataframe general a partir de la unión de los dataframe de cada tipo de secuencia\n",
        "sequences_df = pd.concat([pd.DataFrame(nc_sequences_dict), pd.DataFrame(c_sequences_dict)])\n",
        "\n",
        "# Se imprime una vista previa de los primeros 5 elementos\n",
        "sequences_df.head()"
      ]
    },
    {
      "cell_type": "code",
      "execution_count": 65,
      "metadata": {},
      "outputs": [
        {
          "data": {
            "text/html": [
              "<div>\n",
              "<style scoped>\n",
              "    .dataframe tbody tr th:only-of-type {\n",
              "        vertical-align: middle;\n",
              "    }\n",
              "\n",
              "    .dataframe tbody tr th {\n",
              "        vertical-align: top;\n",
              "    }\n",
              "\n",
              "    .dataframe thead th {\n",
              "        text-align: right;\n",
              "    }\n",
              "</style>\n",
              "<table border=\"1\" class=\"dataframe\">\n",
              "  <thead>\n",
              "    <tr style=\"text-align: right;\">\n",
              "      <th></th>\n",
              "      <th>sequences</th>\n",
              "      <th>value</th>\n",
              "      <th>tokenized</th>\n",
              "    </tr>\n",
              "  </thead>\n",
              "  <tbody>\n",
              "    <tr>\n",
              "      <th>995</th>\n",
              "      <td>AGGGAAGCTCCAGCTGTCCCTCCCGCAGTTGGCCCTGTGGTGTTCC...</td>\n",
              "      <td>1</td>\n",
              "      <td>[7, 9, 9, 9, 7, 7, 9, 8, 10, 8, 8, 7, 9, 8, 10...</td>\n",
              "    </tr>\n",
              "    <tr>\n",
              "      <th>996</th>\n",
              "      <td>AGGGAAGCTCCAGCTGTCCCTCCCGCAGTTGGCCCTGTGGTGTTCC...</td>\n",
              "      <td>1</td>\n",
              "      <td>[7, 9, 9, 9, 7, 7, 9, 8, 10, 8, 8, 7, 9, 8, 10...</td>\n",
              "    </tr>\n",
              "    <tr>\n",
              "      <th>997</th>\n",
              "      <td>GCCGGAAGCAGAAGGACCTCTCTCCCCTAGCTCTCTTTTTCTTGCA...</td>\n",
              "      <td>1</td>\n",
              "      <td>[9, 8, 8, 9, 9, 7, 7, 9, 8, 7, 9, 7, 7, 9, 9, ...</td>\n",
              "    </tr>\n",
              "    <tr>\n",
              "      <th>998</th>\n",
              "      <td>TCTGTCTGTTAGTACAGAGCTCTTATTCAGCCACTAGCTCGGCCTT...</td>\n",
              "      <td>1</td>\n",
              "      <td>[10, 8, 10, 9, 10, 8, 10, 9, 10, 10, 7, 9, 10,...</td>\n",
              "    </tr>\n",
              "    <tr>\n",
              "      <th>999</th>\n",
              "      <td>TCCAAACCCGGCAATGTTGGTGGCTCTTGCATTCCTCTGGATGAGC...</td>\n",
              "      <td>1</td>\n",
              "      <td>[10, 8, 8, 7, 7, 7, 8, 8, 8, 9, 9, 8, 7, 7, 10...</td>\n",
              "    </tr>\n",
              "  </tbody>\n",
              "</table>\n",
              "</div>"
            ],
            "text/plain": [
              "                                             sequences  value  \\\n",
              "995  AGGGAAGCTCCAGCTGTCCCTCCCGCAGTTGGCCCTGTGGTGTTCC...      1   \n",
              "996  AGGGAAGCTCCAGCTGTCCCTCCCGCAGTTGGCCCTGTGGTGTTCC...      1   \n",
              "997  GCCGGAAGCAGAAGGACCTCTCTCCCCTAGCTCTCTTTTTCTTGCA...      1   \n",
              "998  TCTGTCTGTTAGTACAGAGCTCTTATTCAGCCACTAGCTCGGCCTT...      1   \n",
              "999  TCCAAACCCGGCAATGTTGGTGGCTCTTGCATTCCTCTGGATGAGC...      1   \n",
              "\n",
              "                                             tokenized  \n",
              "995  [7, 9, 9, 9, 7, 7, 9, 8, 10, 8, 8, 7, 9, 8, 10...  \n",
              "996  [7, 9, 9, 9, 7, 7, 9, 8, 10, 8, 8, 7, 9, 8, 10...  \n",
              "997  [9, 8, 8, 9, 9, 7, 7, 9, 8, 7, 9, 7, 7, 9, 9, ...  \n",
              "998  [10, 8, 10, 9, 10, 8, 10, 9, 10, 10, 7, 9, 10,...  \n",
              "999  [10, 8, 8, 7, 7, 7, 8, 8, 8, 9, 9, 8, 7, 7, 10...  "
            ]
          },
          "execution_count": 65,
          "metadata": {},
          "output_type": "execute_result"
        }
      ],
      "source": [
        "# Se imprime una vista previa de los últimos 5 elementos\n",
        "sequences_df.tail()"
      ]
    },
    {
      "cell_type": "markdown",
      "metadata": {},
      "source": [
        "**Ahora que ya tenemos nuestras secuencias con sus etiquetas correspondientes pasaremos al proceso de *tokenización*. Este proceso consiste en pasar de caracteres de texto a números interpretables por una computadora o algoritmo. Para ello, utilizaremos la librería *transformers* de [HuggingFace](https://huggingface.co/docs/transformers/index).**"
      ]
    },
    {
      "cell_type": "markdown",
      "metadata": {},
      "source": [
        "## Tokenización"
      ]
    },
    {
      "cell_type": "code",
      "execution_count": 36,
      "metadata": {},
      "outputs": [
        {
          "name": "stderr",
          "output_type": "stream",
          "text": [
            "/home/msr/miniconda3/envs/deep_learning/lib/python3.11/site-packages/huggingface_hub/file_download.py:1132: FutureWarning: `resume_download` is deprecated and will be removed in version 1.0.0. Downloads always resume when possible. If you want to force a new download, use `force_download=True`.\n",
            "  warnings.warn(\n"
          ]
        }
      ],
      "source": [
        "# Declaramos y creamos el tokenizador\n",
        "checkpoint = 'LongSafari/hyenadna-tiny-1k-seqlen-hf'\n",
        "tokenizer = AutoTokenizer.from_pretrained(checkpoint, trust_remote_code=True, padding=True, truncation=True)"
      ]
    },
    {
      "cell_type": "code",
      "execution_count": 37,
      "metadata": {},
      "outputs": [
        {
          "name": "stdout",
          "output_type": "stream",
          "text": [
            "[9, 10, 9, 8, 10, 8, 7, 8, 10, 10, 8, 7, 9, 8, 7, 9, 8, 7, 10, 7, 10, 7, 10, 7, 8, 10, 7, 7, 7, 7, 10, 10, 9, 9, 7, 7, 10, 9, 7, 10, 7, 8, 7, 7, 7, 9, 7, 7, 9, 7, 10, 10, 7, 9, 8, 7, 10, 9, 9, 8, 8, 8, 8, 10, 9, 8, 9, 8, 7, 7, 9, 9, 7, 10, 9, 7, 8, 7, 10, 7, 10, 7, 8, 7, 10, 10, 10, 9, 10, 9, 7, 7, 9, 8, 7, 10, 10, 8, 10, 9, 10, 7, 10, 10, 10, 10, 10, 1]\n"
          ]
        }
      ],
      "source": [
        "# Probamos con una secuencia cualquiera de nuestro conjunto de datos\n",
        "sequence = sequences_df[\"sequences\"].iloc[493]\n",
        "tokenized = tokenizer(sequence)[\"input_ids\"]\n",
        "print(tokenized)"
      ]
    },
    {
      "cell_type": "code",
      "execution_count": 68,
      "metadata": {},
      "outputs": [
        {
          "name": "stdout",
          "output_type": "stream",
          "text": [
            "[9, 10, 7, 8, 10, 10, 7, 10, 10, 10, 8, 7, 7, 8, 7, 9, 8, 7, 8, 7, 10, 7, 10, 10, 10, 10, 7, 7, 7, 10, 10, 9, 9, 7, 10, 8, 7, 7, 10, 7, 8, 7, 9, 7, 9, 8, 7, 9, 7, 10, 7, 7, 9, 8, 7, 10, 9, 9, 10, 10, 7, 8, 10, 9, 8, 8, 10, 7, 9, 9, 9, 7, 10, 9, 9, 8, 7, 8, 7, 8, 7, 7, 7, 10, 10, 8, 7, 9, 7, 7, 7, 9, 8, 7, 10, 10, 8, 8, 7, 10, 7, 10, 10, 10, 10, 9, 1]\n"
          ]
        }
      ],
      "source": [
        "# Ahora tokenizamos todas nuestras secuencias para tener las representaciones computables\n",
        "tokenized_sequences = [tokenizer(sequence)[\"input_ids\"] for sequence in sequences_df[\"sequences\"]]\n",
        "# Imprimimos la primera secuencia tokenizada\n",
        "print(tokenized_sequences[0])"
      ]
    },
    {
      "cell_type": "code",
      "execution_count": 69,
      "metadata": {},
      "outputs": [
        {
          "data": {
            "text/html": [
              "<div>\n",
              "<style scoped>\n",
              "    .dataframe tbody tr th:only-of-type {\n",
              "        vertical-align: middle;\n",
              "    }\n",
              "\n",
              "    .dataframe tbody tr th {\n",
              "        vertical-align: top;\n",
              "    }\n",
              "\n",
              "    .dataframe thead th {\n",
              "        text-align: right;\n",
              "    }\n",
              "</style>\n",
              "<table border=\"1\" class=\"dataframe\">\n",
              "  <thead>\n",
              "    <tr style=\"text-align: right;\">\n",
              "      <th></th>\n",
              "      <th>sequences</th>\n",
              "      <th>value</th>\n",
              "      <th>tokenized</th>\n",
              "    </tr>\n",
              "  </thead>\n",
              "  <tbody>\n",
              "    <tr>\n",
              "      <th>0</th>\n",
              "      <td>GTACTTATTTCAACAGCACATATTTTAAATTGGATCAATACAGAGC...</td>\n",
              "      <td>0</td>\n",
              "      <td>[9, 10, 7, 8, 10, 10, 7, 10, 10, 10, 8, 7, 7, ...</td>\n",
              "    </tr>\n",
              "    <tr>\n",
              "      <th>1</th>\n",
              "      <td>ATACTTACCTGGCAGGGCAGATACCATGATCTTAAAGGCAGTTTTC...</td>\n",
              "      <td>0</td>\n",
              "      <td>[7, 10, 7, 8, 10, 10, 7, 8, 8, 10, 9, 9, 8, 7,...</td>\n",
              "    </tr>\n",
              "    <tr>\n",
              "      <th>2</th>\n",
              "      <td>GTGCCTGCTTTGGCGGCACATATCCTAAAATTGGAACAATACAGAG...</td>\n",
              "      <td>0</td>\n",
              "      <td>[9, 10, 9, 8, 8, 10, 9, 8, 10, 10, 10, 9, 9, 8...</td>\n",
              "    </tr>\n",
              "    <tr>\n",
              "      <th>3</th>\n",
              "      <td>CACTTTACCTGGCAGGGGAGAGACCGTGGTCACGAAGGGGGTTCTC...</td>\n",
              "      <td>0</td>\n",
              "      <td>[8, 7, 8, 10, 10, 10, 7, 8, 8, 10, 9, 9, 8, 7,...</td>\n",
              "    </tr>\n",
              "    <tr>\n",
              "      <th>4</th>\n",
              "      <td>ATACTTACCTGGCAGGGGAGATACCATGATCACGAAGGTGGTTTTC...</td>\n",
              "      <td>0</td>\n",
              "      <td>[7, 10, 7, 8, 10, 10, 7, 8, 8, 10, 9, 9, 8, 7,...</td>\n",
              "    </tr>\n",
              "  </tbody>\n",
              "</table>\n",
              "</div>"
            ],
            "text/plain": [
              "                                           sequences  value  \\\n",
              "0  GTACTTATTTCAACAGCACATATTTTAAATTGGATCAATACAGAGC...      0   \n",
              "1  ATACTTACCTGGCAGGGCAGATACCATGATCTTAAAGGCAGTTTTC...      0   \n",
              "2  GTGCCTGCTTTGGCGGCACATATCCTAAAATTGGAACAATACAGAG...      0   \n",
              "3  CACTTTACCTGGCAGGGGAGAGACCGTGGTCACGAAGGGGGTTCTC...      0   \n",
              "4  ATACTTACCTGGCAGGGGAGATACCATGATCACGAAGGTGGTTTTC...      0   \n",
              "\n",
              "                                           tokenized  \n",
              "0  [9, 10, 7, 8, 10, 10, 7, 10, 10, 10, 8, 7, 7, ...  \n",
              "1  [7, 10, 7, 8, 10, 10, 7, 8, 8, 10, 9, 9, 8, 7,...  \n",
              "2  [9, 10, 9, 8, 8, 10, 9, 8, 10, 10, 10, 9, 9, 8...  \n",
              "3  [8, 7, 8, 10, 10, 10, 7, 8, 8, 10, 9, 9, 8, 7,...  \n",
              "4  [7, 10, 7, 8, 10, 10, 7, 8, 8, 10, 9, 9, 8, 7,...  "
            ]
          },
          "execution_count": 69,
          "metadata": {},
          "output_type": "execute_result"
        }
      ],
      "source": [
        "# Añadimos una nueva columna a nuestro dataframe con las secuencias tokenizadas\n",
        "sequences_df[\"tokenized\"] = tokenized_sequences\n",
        "sequences_df.head()"
      ]
    },
    {
      "cell_type": "markdown",
      "metadata": {},
      "source": [
        "**Con fines ilustrativos se mostrará una secuencia original y su contraparte tokenizada y decodificada, es decir, pasar de la representación numérica a la de caracteres de texto.**"
      ]
    },
    {
      "cell_type": "code",
      "execution_count": 70,
      "metadata": {},
      "outputs": [
        {
          "name": "stdout",
          "output_type": "stream",
          "text": [
            "GTACTTATTTCAACAGCACATATTTTAAATTGGATCAATACAGAGCAGATAAGCATGGTTACTGCCTAGGGATGGCACACAAATTCAGAAAGCATTCCATATTTTG \n",
            " GTACTTATTTCAACAGCACATATTTTAAATTGGATCAATACAGAGCAGATAAGCATGGTTACTGCCTAGGGATGGCACACAAATTCAGAAAGCATTCCATATTTTG[SEP]\n"
          ]
        }
      ],
      "source": [
        "# Imprimimos la secuencia original y la decodificación de la tokenizada\n",
        "print(sequences_df[\"sequences\"].iloc[0], \"\\n\", \n",
        "      tokenizer.decode(sequences_df[\"tokenized\"].iloc[0]))"
      ]
    },
    {
      "cell_type": "markdown",
      "metadata": {},
      "source": [
        "**Ahora veremos si existe algún patrón o propiedades intrínsecas en las secuencias que las diferencíe aplicando un método de reducción dimensional como lo es el *análisis de componentes principales* (PCA).**"
      ]
    },
    {
      "cell_type": "code",
      "execution_count": 71,
      "metadata": {},
      "outputs": [
        {
          "data": {
            "text/plain": [
              "0      [9, 10, 7, 8, 10, 10, 7, 10, 10, 10, 8, 7, 7, ...\n",
              "1      [7, 10, 7, 8, 10, 10, 7, 8, 8, 10, 9, 9, 8, 7,...\n",
              "2      [9, 10, 9, 8, 8, 10, 9, 8, 10, 10, 10, 9, 9, 8...\n",
              "3      [8, 7, 8, 10, 10, 10, 7, 8, 8, 10, 9, 9, 8, 7,...\n",
              "4      [7, 10, 7, 8, 10, 10, 7, 8, 8, 10, 9, 9, 8, 7,...\n",
              "                             ...                        \n",
              "995    [7, 9, 9, 9, 7, 7, 9, 8, 10, 8, 8, 7, 9, 8, 10...\n",
              "996    [7, 9, 9, 9, 7, 7, 9, 8, 10, 8, 8, 7, 9, 8, 10...\n",
              "997    [9, 8, 8, 9, 9, 7, 7, 9, 8, 7, 9, 7, 7, 9, 9, ...\n",
              "998    [10, 8, 10, 9, 10, 8, 10, 9, 10, 10, 7, 9, 10,...\n",
              "999    [10, 8, 8, 7, 7, 7, 8, 8, 8, 9, 9, 8, 7, 7, 10...\n",
              "Name: tokenized, Length: 2000, dtype: object"
            ]
          },
          "execution_count": 71,
          "metadata": {},
          "output_type": "execute_result"
        }
      ],
      "source": [
        "# Determinamos el largo máximo de las secuencias\n",
        "max_len = max(sequences_df['tokenized'].apply(len))\n",
        "\n",
        "# Rellenamos las secuencias más cortas con el valor del token de padeo del tokenizador (padding)\n",
        "pad_token = tokenizer.pad_token_id\n",
        "padded_lists = sequences_df['tokenized'].apply(lambda x: x + [pad_token]*(max_len - len(x)))\n",
        "padded_lists\n"
      ]
    },
    {
      "cell_type": "code",
      "execution_count": 73,
      "metadata": {},
      "outputs": [],
      "source": [
        "# Convertimos las listas rellenadas a un arreglo de numpy\n",
        "X = np.array(padded_lists.tolist())"
      ]
    },
    {
      "cell_type": "code",
      "execution_count": 74,
      "metadata": {},
      "outputs": [],
      "source": [
        "# Creamos el objeto de PCA y lo aplicamos a nuestro arreglo\n",
        "pca = decomposition.PCA(n_components=3)\n",
        "principal_components = pca.fit_transform(X)\n"
      ]
    },
    {
      "cell_type": "code",
      "execution_count": 75,
      "metadata": {},
      "outputs": [],
      "source": [
        "# Create a DataFrame with the principal components and the target labels\n",
        "pca_df = pd.DataFrame(data=principal_components, columns=['PC1', 'PC2','PC3'])\n",
        "pca_df['Target'] = sequences_df[\"value\"].to_list()"
      ]
    },
    {
      "cell_type": "code",
      "execution_count": 76,
      "metadata": {},
      "outputs": [
        {
          "data": {
            "image/png": "[encoded data removed]",
            "text/plain": [
              "<Figure size 1000x800 with 1 Axes>"
            ]
          },
          "metadata": {},
          "output_type": "display_data"
        }
      ],
      "source": [
        "# Plotting\n",
        "plt.figure(figsize=(10, 8))\n",
        "sns.scatterplot(x='PC1', y='PC3', hue='Target', palette='viridis', data=pca_df, legend='full')\n",
        "\n",
        "# Customize the plot\n",
        "plt.title('PCA de las secuencias tokenizadas')\n",
        "plt.xlabel('Componente principal 1')\n",
        "plt.ylabel('Componente principal 2')\n",
        "#plt.legend(title='Target', labels=labels)\n",
        "plt.grid(True)\n",
        "plt.show()"
      ]
    },
    {
      "cell_type": "markdown",
      "metadata": {
        "id": "iXsUc1mbP_Kr"
      },
      "source": [
        "# Referencias\n",
        "\n",
        "[1] Clark, D. P., Pazdernik, N. J., & McGehee, M. R. (2019). Molecular biology. Elsevier.\n",
        "\n",
        "[2] EMBL-EBI (2024) Functional genmics 1. Disponible en: https://www.ebi.ac.uk/training/online/courses/functional-genomics-i-introduction-and-design/\n",
        "\n",
        "[3] Grešová, K., Martinek, V., Čechák, D., Šimeček, P., & Alexiou, P. (2023). Genomic benchmarks: a collection of datasets for genomic sequence classification. BMC Genomic Data, 24(1), 25.\n",
        "\n",
        "[4] Angermueller, C., Pärnamaa, T., Parts, L., & Stegle, O. (2016). Deep learning for computational biology. Molecular systems biology, 12(7), 878."
      ]
    }
  ],
  "metadata": {
    "colab": {
      "provenance": []
    },
    "kernelspec": {
      "display_name": "Python 3",
      "name": "python3"
    },
    "language_info": {
      "codemirror_mode": {
        "name": "ipython",
        "version": 3
      },
      "file_extension": ".py",
      "mimetype": "text/x-python",
      "name": "python",
      "nbconvert_exporter": "python",
      "pygments_lexer": "ipython3",
      "version": "3.11.9"
    }
  },
  "nbformat": 4,
  "nbformat_minor": 0
}
