{
  "cells": [
    {
      "cell_type": "markdown",
      "metadata": {
        "id": "XpW_eYrAl068"
      },
      "source": [
        "# Clasificación de secuencias genómicas\n",
        "\n",
        "## Temas:\n",
        "1. Introducción\n",
        "  - Objetivos\n",
        "  - Antecedentes y usos\n",
        "  - Datos genómicos\n",
        "\n",
        "2. Preprocesamiento básico de secuencias genómicas\n",
        "  - Resumen de secuencias genómicas y su representación\n",
        "  - Transformación y extracción de características (tokenización)\n",
        "  - Actividad: Preparación de un conjunto de datos\n",
        "\n",
        "3. Modelos de aprendizaje automático para clasificación de secuencias\n",
        "  - Métodos clásicos de aprendizaje automático (machine learning)\n",
        "  - Aprendizaje profundo (deep learning)\n",
        "  - Actividad: Construcción y entrenamiento de modelos\n",
        "\n",
        "4. Técnicas avanzadas para la clasificación de secuencias\n",
        "  - Introducción a modelos de aprendizaje profundo con PyTorch\n",
        "  - *Transfer learning* con HuggingFace\n",
        "  ---"
      ]
    },
    {
      "cell_type": "markdown",
      "metadata": {
        "id": "0Cc5NxX8NSBA"
      },
      "source": [
        "# Introducción\n",
        "\n",
        "## Objetivos:\n",
        "1. Entender la importancia del proceso de clasificación de secuencias\n",
        "2. Entender el proceso de preparación de conjuntos de datos para la clasificación de secuencias genómicas\n",
        "3. Comprender las distintas estrategias disponibles para la clasificación de secuencias\n",
        "4. Implementar un algoritmo de clasificación de secuencias codificantes vs. no codificantes exitosamente\n",
        "\n",
        "## Antecedentes\n",
        "El término **genoma** se refiere a todo el material genético heredable de un ser vivo. La principal diferencia entre la genética y la genómica es el objetivo de estudio. El primero estudia **genes** individuales, así como sus productos y consecuencias de su variación. Mientras que la genómica se centra en todos los elementos que se encuentran en el genóma y cómo estos interaccionan [1]. La rama de la **genómica funcional** estudia cómo los genes y las regiones intergénicas, afectados por el ambiente resultan en fenotipos específicos, es decir, las características visibles de un organismo (color de piel, de ojos, enfermedades manifestadas, etc.) [2].\n",
        "\n",
        "<figure>\n",
        "<img    src=\"images/dna_double_helix.jpg\"\n",
        "        width=500\n",
        "        height=500>\n",
        "<figcaption>Fig. 1: Imagen generada de la doble hélice de la estructura del ADN.\n",
        "</figure>\n",
        "\n",
        "Tradicionalmente la clasificación de secuencias era un proceso predominantemente estadístico, sin embargo, en los últimos años el uso de herramientas de aprendizaje automático, específicamente de aprendizaje profundo, han servido para identificar y clasificar numerosos elementos genómicos. Por ejemplo, elementos como promotores, potenciadores, factores de transcripción, entre otros, han sido de mucha utilidad para comprobar la efectividad de estas novedosas estrategias [3].\n",
        "\n",
        "<figure>\n",
        "<img    src=\"images/IA_ML_DL.png\"\n",
        "        width=500\n",
        "        height=500>\n",
        "<figcaption>Fig. 2: Diagrama de Venn del paradigma de inteligencia artificial.\n",
        "</figure>\n",
        "\n",
        "En este taller veremos cuál es el proceso para la clasificación de secuencias genómicas desde el minado y preporcesamiento de los datos, hasta el uso de herramientas más avanzadas. De manera general, este procedimiento se resume en los siguientes pasos:\n",
        "\n",
        "1. Entender el problema\n",
        "2. Adquisición y/o búsqueda de datos\n",
        "3. Pre-procesamiento de datos\n",
        "4. Extracción de características\n",
        "5. Elección de modelo o arquitectura\n",
        "6. Entrenamiento del modelo\n",
        "7. Evaluación del modelo\n",
        "8. Despliegue del modelo (en aplicaciones prácticas e industriales)\n",
        "\n",
        "<figure>\n",
        "<img    src=\"images/ml_workflow.png\"\n",
        "        width=1200\n",
        "        height=200>\n",
        "<figcaption>Fig. 3: Flujo de trabajo convencional en el uso de herramientas de ML en aplicaciones biomédicas [4].\n",
        "</figure>\n",
        "\n",
        "---"
      ]
    },
    {
      "cell_type": "markdown",
      "metadata": {},
      "source": [
        "# Preprocesamiento básico de secuencias genómicas"
      ]
    },
    {
      "cell_type": "code",
      "execution_count": 4,
      "metadata": {
        "id": "Bhc6qPOblv0q"
      },
      "outputs": [],
      "source": [
        "# Importaremos algunas librerías que nos serán de mucha utilidad\n",
        "import torch\n",
        "import torch.nn as nn\n",
        "import numpy as np\n",
        "from Bio import SeqIO\n",
        "import gzip\n",
        "import sklearn\n",
        "from genomic_benchmarks.data_check import list_datasets"
      ]
    },
    {
      "cell_type": "markdown",
      "metadata": {},
      "source": [
        "## Secuencias codificantes vs. no codificantes\n",
        "El conjunto de datos con el que trabajaremos está disponible en la base de datos pública de Ensembl, disponible [aquí](https://ftp.ensembl.org/pub/release-111/fasta/homo_sapiens/)."
      ]
    },
    {
      "cell_type": "code",
      "execution_count": 8,
      "metadata": {},
      "outputs": [],
      "source": [
        "# Cambiar paths hacia google drive para la implementación en Colab\n",
        "ensembl111_path = \"/media/msr/DATA/Databases/Ensembl/111/\"\n",
        "ncrna_path = ensembl111_path + \"ncrna/Homo_sapiens.GRCh38.ncrna.fa.gz\"\n",
        "cdna_path = ensembl111_path + \"cdna/Homo_sapiens.GRCh38.cdna.all.fa.gz\""
      ]
    },
    {
      "cell_type": "code",
      "execution_count": 9,
      "metadata": {},
      "outputs": [
        {
          "name": "stdout",
          "output_type": "stream",
          "text": [
            "[SeqRecord(seq=Seq('GTACTTATTTCAACAGCACATATTTTAAATTGGATCAATACAGAGCAGATAAGC...TTG'), id='ENST00000616830.1', name='ENST00000616830.1', description='ENST00000616830.1 ncrna scaffold:GRCh38:KI270744.1:51009:51114:-1 gene:ENSG00000278625.1 gene_biotype:snRNA transcript_biotype:snRNA gene_symbol:U6 description:U6 spliceosomal RNA [Source:RFAM;Acc:RF00026]', dbxrefs=[]), SeqRecord(seq=Seq('ATACTTACCTGGCAGGGCAGATACCATGATCTTAAAGGCAGTTTTCCCAGGGCA...GTA'), id='ENST00000612925.1', name='ENST00000612925.1', description='ENST00000612925.1 ncrna scaffold:GRCh38:KI270750.1:148668:148843:1 gene:ENSG00000277374.1 gene_biotype:snRNA transcript_biotype:snRNA gene_symbol:U1 description:U1 spliceosomal RNA [Source:RFAM;Acc:RF00003]', dbxrefs=[]), SeqRecord(seq=Seq('GTGCCTGCTTTGGCGGCACATATCCTAAAATTGGAACAATACAGAGAAAGTTAG...TTG'), id='ENST00000616468.1', name='ENST00000616468.1', description='ENST00000616468.1 ncrna scaffold:GRCh38:GL000213.1:127840:127946:-1 gene:ENSG00000278793.1 gene_biotype:snRNA transcript_biotype:snRNA gene_symbol:U6 description:U6 spliceosomal RNA [Source:RFAM;Acc:RF00026]', dbxrefs=[]), SeqRecord(seq=Seq('CACTTTACCTGGCAGGGGAGAGACCGTGGTCACGAAGGGGGTTCTCCCAGAGTG...TTT'), id='ENST00000618083.1', name='ENST00000618083.1', description='ENST00000618083.1 ncrna scaffold:GRCh38:KI270713.1:30437:30580:-1 gene:ENSG00000275987.1 gene_biotype:snRNA transcript_biotype:snRNA gene_symbol:U1 description:U1 spliceosomal RNA [Source:RFAM;Acc:RF00003]', dbxrefs=[]), SeqRecord(seq=Seq('ATACTTACCTGGCAGGGGAGATACCATGATCACGAAGGTGGTTTTCCCAGGGCG...CTG'), id='ENST00000619109.1', name='ENST00000619109.1', description='ENST00000619109.1 ncrna scaffold:GRCh38:KI270713.1:21861:22024:-1 gene:ENSG00000275405.1 gene_biotype:snRNA transcript_biotype:snRNA gene_symbol:U1 description:U1 spliceosomal RNA [Source:RFAM;Acc:RF00003]', dbxrefs=[])]\n"
          ]
        }
      ],
      "source": [
        "# Leemos el archivo que contiene las secuencias con las que trabajeremos\n",
        "with gzip.open(ncrna_path, 'rt') as file_handler:\n",
        "    ncrna_seq = [record for record in SeqIO.parse(file_handler, \"fasta\")]\n",
        "\n",
        "print(ncrna_seq[:5])"
      ]
    },
    {
      "cell_type": "code",
      "execution_count": 10,
      "metadata": {},
      "outputs": [
        {
          "name": "stdout",
          "output_type": "stream",
          "text": [
            "['GTACTTATTTCAACAGCACATATTTTAAATTGGATCAATACAGAGCAGATAAGCATGGTTACTGCCTAGGGATGGCACACAAATTCAGAAAGCATTCCATATTTTG', 'ATACTTACCTGGCAGGGCAGATACCATGATCTTAAAGGCAGTTTTCCCAGGGCAAGGCTTATCCATTCCACTCTGGATCCATCATAGGGATATGCTGATCCCTGGAATTGCCCCAAATGTGGGAAGCTCTACTGCAAAATTTTTGGTAGTGAGCGATGGCATTATGCATTCATGTA', 'GTGCCTGCTTTGGCGGCACATATCCTAAAATTGGAACAATACAGAGAAAGTTAGCATGGCTTCTGCATAAGGAGGCAGCACAACTCTTTGAGGCATTCCATATTTTG', 'CACTTTACCTGGCAGGGGAGAGACCGTGGTCACGAAGGGGGTTCTCCCAGAGTGAAGCTTCTTCATCGCACTCTAGAGTTGCTGATTCCTGTGATTTCCTCCATGTGGGAAACGGTGTTTGTGCTAGAAGAGGCTGCGCTCTTT', 'ATACTTACCTGGCAGGGGAGATACCATGATCACGAAGGTGGTTTTCCCAGGGCGAGGCTTATCCATTGCACTCCGGATGTGCTGACCCCTGCGATTTCCCCAAATGTGGGAAACTCGACTGCATAATTTGTGGTAGTGGGGGACTGCGTTCGCGCTTTCCCCTG']\n"
          ]
        }
      ],
      "source": [
        "# En este caso, la única información que nos interesa es sólo la secuencia, por lo tanto debemos especificarlo\n",
        "with gzip.open(ncrna_path, 'rt') as file_handler:\n",
        "    ncrna_seq = [str(record.seq)for record in SeqIO.parse(file_handler, \"fasta\")]\n",
        "\n",
        "print(ncrna_seq[:5])"
      ]
    },
    {
      "cell_type": "markdown",
      "metadata": {},
      "source": [
        "**Hasta aquí, solo hemos extraído las secuencias *no codificantes*. Repetiremos el mismo proceso con las secuencias *codificantes*.**"
      ]
    },
    {
      "cell_type": "code",
      "execution_count": 11,
      "metadata": {},
      "outputs": [
        {
          "name": "stdout",
          "output_type": "stream",
          "text": [
            "['GAAATAGT', 'ACTGGGGGATACG', 'CCTTCCTAC', 'GGGACAGGGGGC', 'GGGACAGGGGGC']\n"
          ]
        }
      ],
      "source": [
        "# Extraemos únicamente las secuencias del conjunto de datos de secuencias codificantes\n",
        "with gzip.open(cdna_path, 'rt') as file_handler:\n",
        "    cdna_seq = [str(record.seq) for record in SeqIO.parse(file_handler, \"fasta\")]\n",
        "\n",
        "print(cdna_seq[:5])"
      ]
    },
    {
      "cell_type": "code",
      "execution_count": null,
      "metadata": {},
      "outputs": [],
      "source": []
    },
    {
      "cell_type": "markdown",
      "metadata": {
        "id": "iXsUc1mbP_Kr"
      },
      "source": [
        "# Referencias\n",
        "\n",
        "[1] Clark, D. P., Pazdernik, N. J., & McGehee, M. R. (2019). Molecular biology. Elsevier.\n",
        "\n",
        "[2] EMBL-EBI (2024) Functional genmics 1. Disponible en: https://www.ebi.ac.uk/training/online/courses/functional-genomics-i-introduction-and-design/\n",
        "\n",
        "[3] Grešová, K., Martinek, V., Čechák, D., Šimeček, P., & Alexiou, P. (2023). Genomic benchmarks: a collection of datasets for genomic sequence classification. BMC Genomic Data, 24(1), 25.\n",
        "\n",
        "[4] Angermueller, C., Pärnamaa, T., Parts, L., & Stegle, O. (2016). Deep learning for computational biology. Molecular systems biology, 12(7), 878."
      ]
    }
  ],
  "metadata": {
    "colab": {
      "provenance": []
    },
    "kernelspec": {
      "display_name": "Python 3",
      "name": "python3"
    },
    "language_info": {
      "codemirror_mode": {
        "name": "ipython",
        "version": 3
      },
      "file_extension": ".py",
      "mimetype": "text/x-python",
      "name": "python",
      "nbconvert_exporter": "python",
      "pygments_lexer": "ipython3",
      "version": "3.11.9"
    }
  },
  "nbformat": 4,
  "nbformat_minor": 0
}
